{
 "cells": [
  {
   "cell_type": "code",
   "execution_count": 22,
   "metadata": {},
   "outputs": [
    {
     "name": "stdout",
     "output_type": "stream",
     "text": [
      "done\n"
     ]
    }
   ],
   "source": [
    "import requests\n",
    "print(\"done\")"
   ]
  },
  {
   "cell_type": "code",
   "execution_count": 32,
   "metadata": {},
   "outputs": [
    {
     "name": "stdout",
     "output_type": "stream",
     "text": [
      "done\n"
     ]
    }
   ],
   "source": [
    "url = 'http://localhost:5000/'\n",
    "playbook = '/home/jeff/workspace/flask-api-ansible/test-csr-play.yml'\n",
    "task_file = '/home/jeff/workspace/flask-api-ansible/roles/change_transitcsr_config/tasks/tasks.yml'\n",
    "var_file = '/home/jeff/workspace/flask-api-ansible/roles/change_transitcsr_config/vars/vars.yml'\n",
    "aws_pem_txt_file = '/home/jeff/workspace/flask-api-ansible/jk-aws-kp1.txt'\n",
    "playurl = 'http://localhost:5000/run_update/test-csr-play.yml'\n",
    "print(\"done\")"
   ]
  },
  {
   "cell_type": "code",
   "execution_count": 27,
   "metadata": {},
   "outputs": [
    {
     "name": "stdout",
     "output_type": "stream",
     "text": [
      "/uploads/test-csr-play.yml\n",
      "done\n"
     ]
    }
   ],
   "source": [
    "fin = open(playbook, 'rb')\n",
    "files = {'file':fin}\n",
    "try:\n",
    "    r = requests.post(url, files=files)\n",
    "    print(r.text)\n",
    "finally:\n",
    "    fin.close()\n",
    "print(\"done\")"
   ]
  },
  {
   "cell_type": "code",
   "execution_count": 28,
   "metadata": {},
   "outputs": [
    {
     "name": "stdout",
     "output_type": "stream",
     "text": [
      "/uploads/tasks.yml\n",
      "done\n"
     ]
    }
   ],
   "source": [
    "fin = open(task_file, 'rb')\n",
    "files = {'file':fin}\n",
    "try:\n",
    "    r = requests.post(url, files=files)\n",
    "    print(r.text)\n",
    "finally:\n",
    "    fin.close()\n",
    "print(\"done\")"
   ]
  },
  {
   "cell_type": "code",
   "execution_count": 29,
   "metadata": {},
   "outputs": [
    {
     "name": "stdout",
     "output_type": "stream",
     "text": [
      "/uploads/vars.yml\n",
      "done\n"
     ]
    }
   ],
   "source": [
    "fin = open(var_file, 'rb')\n",
    "files = {'file':fin}\n",
    "try:\n",
    "    r = requests.post(url, files=files)\n",
    "    print(r.text)\n",
    "finally:\n",
    "    fin.close()\n",
    "print(\"done\")"
   ]
  },
  {
   "cell_type": "code",
   "execution_count": 30,
   "metadata": {},
   "outputs": [
    {
     "name": "stdout",
     "output_type": "stream",
     "text": [
      "/uploads/jk-aws-kp1.txt\n",
      "done\n"
     ]
    }
   ],
   "source": [
    "fin = open(aws_pem_txt_file, 'rb')\n",
    "files = {'file':fin}\n",
    "try:\n",
    "    r = requests.post(url, files=files)\n",
    "    print(r.text)\n",
    "finally:\n",
    "    fin.close()\n",
    "print(\"done\")"
   ]
  },
  {
   "cell_type": "code",
   "execution_count": 33,
   "metadata": {},
   "outputs": [
    {
     "name": "stdout",
     "output_type": "stream",
     "text": [
      "\n",
      "PLAY [Testing Block and Rescue with Include-Roles] *******************************************************************************************************************************************************\n",
      "\n",
      "TASK [include_role] **************************************************************************************************************************************************************************************\n",
      "\n",
      "TASK [change_transitcsr_config : Configure Int] **********************************************************************************************************************************************************\n",
      "changed: [localhost]\n",
      "\n",
      "TASK [change_transitcsr_config : debug] ******************************************************************************************************************************************************************\n",
      "ok: [localhost] => {\n",
      "    \"msg\": \"this task is successful\"\n",
      "}\n",
      "\n",
      "TASK [added this extra test message task] ****************************************************************************************************************************************************************\n",
      "changed: [localhost]\n",
      "\n",
      "TASK [debug] *********************************************************************************************************************************************************************************************\n",
      "ok: [localhost] => {\n",
      "    \"msg\": \"all roles and actions sucessful\"\n",
      "}\n",
      "\n",
      "PLAY RECAP ***********************************************************************************************************************************************************************************************\n",
      "localhost                  : ok=4    changed=2    unreachable=0    failed=0   \n",
      "\n",
      "\n",
      "done\n"
     ]
    }
   ],
   "source": [
    "r = requests.get(playurl)\n",
    "print(r.text)\n",
    "print(\"done\")"
   ]
  }
 ],
 "metadata": {
  "kernelspec": {
   "display_name": "Python 3",
   "language": "python",
   "name": "python3"
  },
  "language_info": {
   "codemirror_mode": {
    "name": "ipython",
    "version": 3
   },
   "file_extension": ".py",
   "mimetype": "text/x-python",
   "name": "python",
   "nbconvert_exporter": "python",
   "pygments_lexer": "ipython3",
   "version": "3.7.3"
  }
 },
 "nbformat": 4,
 "nbformat_minor": 2
}
